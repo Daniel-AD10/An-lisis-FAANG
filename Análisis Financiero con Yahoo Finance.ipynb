{
 "cells": [
  {
   "cell_type": "code",
   "execution_count": null,
   "id": "dutch-horizontal",
   "metadata": {},
   "outputs": [],
   "source": [
    "#LIBRERIAS\n",
    "import yfinance as yf\n",
    "import pandas as pd\n",
    "import matplotlib.pyplot as plt\n",
    "import seaborn as sns\n",
    "from datetime import timedelta, datetime\n",
    "import warnings\n",
    "warnings.filterwarnings('ignore')\n",
    "\n",
    "#CONFIGURACIÓN\n",
    "plt.style.use(\"seaborn-v0_8\")\n",
    "sns.set_palette(\"Set2\")\n",
    "\n",
    "#TICKETS\n",
    "tickers = [\"META\", \"AAPL\", \"AMZN\", \"NFLX\", \"GOOGL\"]\n",
    "\n",
    "#ESTABLECER FECHA\n",
    "fecha_final   = datetime.utcnow().date()\n",
    "fecha_inicial = fecha_final - timedelta(252 * 10) #ULTIMOS 10 AÑOS\n",
    "\n",
    "#DESCARGAR DATOS \n",
    "data = yf.download(tickers = tickers, start = fecha_inicial, end = fecha_final)[\"Close\"]"
   ]
  },
  {
   "cell_type": "code",
   "execution_count": null,
   "id": "independent-client",
   "metadata": {},
   "outputs": [],
   "source": [
    "data.to_csv(\"data.csv\", sep = \",\", index = True)"
   ]
  },
  {
   "cell_type": "markdown",
   "id": "significant-nepal",
   "metadata": {},
   "source": [
    "# ANÁLISIS EXPLOTARIO"
   ]
  },
  {
   "cell_type": "code",
   "execution_count": null,
   "id": "wanted-begin",
   "metadata": {},
   "outputs": [],
   "source": [
    "#IMPRIMIR ENCABEZADOS\n",
    "data.head()"
   ]
  },
  {
   "cell_type": "code",
   "execution_count": null,
   "id": "accredited-macedonia",
   "metadata": {},
   "outputs": [],
   "source": [
    "#IMPRIMIR DESCRIPCIÓN DE LAS ACCIONES\n",
    "data.describe()"
   ]
  },
  {
   "cell_type": "code",
   "execution_count": null,
   "id": "seeing-democracy",
   "metadata": {},
   "outputs": [],
   "source": [
    "#CREAR TIUTLO DEL GRAFICO\n",
    "periodo = str(fecha_inicial.year) + \"-\" + str(fecha_final.year)\n",
    "titulo = f\"Precios Históricos Diarios de las Acciones ({periodo})\"\n",
    "data.plot(figsize=(15,6))\n",
    "plt.title(titulo)\n",
    "plt.ylabel(\"Precio (USD)\")\n",
    "plt.xlabel(\"Fecha\")\n",
    "plt.show()"
   ]
  },
  {
   "cell_type": "markdown",
   "id": "artistic-minneapolis",
   "metadata": {},
   "source": [
    "# CALCULA RENDIMIENTOS DIARIOS"
   ]
  },
  {
   "cell_type": "code",
   "execution_count": null,
   "id": "artistic-catch",
   "metadata": {},
   "outputs": [],
   "source": [
    "#CALCULAR RENDIMIENTOS\n",
    "rendimientos = data.pct_change().dropna()\n",
    "\n",
    "#IMPRIMIR RENDIMIENTOS\n",
    "rendimientos"
   ]
  },
  {
   "cell_type": "code",
   "execution_count": null,
   "id": "sweet-fossil",
   "metadata": {},
   "outputs": [],
   "source": [
    "#GRAFICANDO EL DESEMPEÑO HISTÓRICO DE LAS ACCIONES\n",
    "(1 + rendimientos).cumprod().plot(figsize = (15, 6))"
   ]
  },
  {
   "cell_type": "code",
   "execution_count": null,
   "id": "tight-machine",
   "metadata": {},
   "outputs": [],
   "source": [
    "#CALCULAR LA VOLATILIDAD ANUAL DE LAS ACCIONES\n",
    "volatilidad = rendimientos.std() * (252 ** 0.5)\n",
    "print(\"Volatilidad Anualizada: \\n\", volatilidad)"
   ]
  },
  {
   "cell_type": "code",
   "execution_count": null,
   "id": "chubby-hartford",
   "metadata": {},
   "outputs": [],
   "source": [
    "#CORRELACIÓN ENTRE ACCIONES\n",
    "plt.figure(figsize = (15, 6))\n",
    "sns.heatmap(rendimientos.corr(), annot=True, cmap=\"coolwarm\", vmin=-1, vmax=1)\n",
    "plt.title(\"Matriz de correlación de rendimientos\")\n",
    "plt.show()"
   ]
  },
  {
   "cell_type": "markdown",
   "id": "technical-court",
   "metadata": {},
   "source": [
    "# MÉTRICAS FINANCIERAS"
   ]
  },
  {
   "cell_type": "markdown",
   "id": "adjacent-battery",
   "metadata": {},
   "source": [
    "## RATIO SHARPE"
   ]
  },
  {
   "cell_type": "code",
   "execution_count": null,
   "id": "dramatic-christianity",
   "metadata": {},
   "outputs": [],
   "source": [
    "tlr = 0.03 # TASA LIBRE DE RIESGO 3%\n",
    "dif_rendi_diario = rendimientos - (tlr / 252) # RENDIMIENTOS VS TLR DIARIOS\n",
    "sharpe = (dif_rendi_diario.mean() * 252) / (rendimientos.std() * (252 ** 0.5))\n",
    "sharpe.sort_values(ascending=False).to_frame(\"Sharpe Anual\")"
   ]
  },
  {
   "cell_type": "markdown",
   "id": "bright-anatomy",
   "metadata": {},
   "source": [
    "## MÁXIMO DRAWDOWN"
   ]
  },
  {
   "cell_type": "code",
   "execution_count": null,
   "id": "extraordinary-arlington",
   "metadata": {},
   "outputs": [],
   "source": [
    "## FUNCIÓN PARA CALCULAR EL MÁXIMO DRAWDOWN\n",
    "def max_drawdown(df):\n",
    "    cum  = (1 + df).cumprod()\n",
    "    pico = cum.cummax()\n",
    "    dd   = (cum / pico - 1)\n",
    "    return dd.min()"
   ]
  },
  {
   "cell_type": "code",
   "execution_count": null,
   "id": "natural-television",
   "metadata": {},
   "outputs": [],
   "source": [
    "#CALCULAR EL MÁXIMO DRAWDOWN\n",
    "drawdowns = rendimientos.apply(max_drawdown)\n",
    "drawdowns.to_frame(\"Max Drawdown\")"
   ]
  },
  {
   "cell_type": "code",
   "execution_count": null,
   "id": "breathing-positive",
   "metadata": {},
   "outputs": [],
   "source": [
    "#VISUALIZAR MAX DRAWDOWN\n",
    "def graficar_drawdown(activo):\n",
    "    cum_   = (1 + rendimientos[activo]).cumprod()\n",
    "    peak_  = cum_.cummax()\n",
    "    dd_    = cum_/peak_ - 1\n",
    "    titulo = \"Drawdown \" + activo\n",
    "\n",
    "    dd_.plot(figsize=(15,6))\n",
    "    plt.title(titulo)\n",
    "    plt.ylabel(\"Drawdown\")\n",
    "    plt.show()"
   ]
  },
  {
   "cell_type": "code",
   "execution_count": null,
   "id": "annual-gnome",
   "metadata": {},
   "outputs": [],
   "source": [
    "#SELECCIONAR UN ACTIVO (\"META\", \"AAPL\", \"AMZN\", \"NFLX\", \"GOOGL\")\n",
    "graficar_drawdown(\"GOOGL\")"
   ]
  },
  {
   "cell_type": "markdown",
   "id": "innovative-organ",
   "metadata": {},
   "source": [
    "## VaR (VALOR EN RIESGO)"
   ]
  },
  {
   "cell_type": "code",
   "execution_count": null,
   "id": "ranging-resistance",
   "metadata": {},
   "outputs": [],
   "source": [
    "alfa = 0.05 # 5% de cola = 95% de confianza\n",
    "VaR = rendimientos.quantile(alfa)\n",
    "VaR.to_frame(\"VaR 95% diario\")"
   ]
  }
 ],
 "metadata": {
  "kernelspec": {
   "display_name": "Python 3",
   "language": "python",
   "name": "python3"
  },
  "language_info": {
   "codemirror_mode": {
    "name": "ipython",
    "version": 3
   },
   "file_extension": ".py",
   "mimetype": "text/x-python",
   "name": "python",
   "nbconvert_exporter": "python",
   "pygments_lexer": "ipython3",
   "version": "3.8.5"
  }
 },
 "nbformat": 4,
 "nbformat_minor": 5
}
